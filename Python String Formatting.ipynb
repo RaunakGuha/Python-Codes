{
 "cells": [
  {
   "cell_type": "code",
   "execution_count": 2,
   "id": "1a6e8ad6",
   "metadata": {},
   "outputs": [
    {
     "data": {
      "text/plain": [
       "'Welcome rgt to world!'"
      ]
     },
     "execution_count": 2,
     "metadata": {},
     "output_type": "execute_result"
    }
   ],
   "source": [
    "def hello(name):\n",
    "    return \"Welcome {} to world!\".format(name)\n",
    "hello(\"rgt\")"
   ]
  },
  {
   "cell_type": "code",
   "execution_count": 3,
   "id": "37a355e8",
   "metadata": {},
   "outputs": [
    {
     "name": "stdout",
     "output_type": "stream",
     "text": [
      "The price is 40 rupees\n"
     ]
    }
   ],
   "source": [
    "price = 40\n",
    "txt = \"The price is {} rupees\"\n",
    "print(txt.format(price))"
   ]
  },
  {
   "cell_type": "code",
   "execution_count": 7,
   "id": "1e0191a6",
   "metadata": {},
   "outputs": [
    {
     "name": "stdout",
     "output_type": "stream",
     "text": [
      "I want 2 pieces of item number 500 for 40.0 rupee.\n"
     ]
    }
   ],
   "source": [
    "quantity = 2\n",
    "itemno = 500\n",
    "price = 40\n",
    "myorder = \"I want {} pieces of item number {} for {:.1f} rupee.\"\n",
    "print(myorder.format(quantity, itemno, price))"
   ]
  },
  {
   "cell_type": "code",
   "execution_count": 8,
   "id": "3193dfb2",
   "metadata": {},
   "outputs": [
    {
     "name": "stdout",
     "output_type": "stream",
     "text": [
      "His name is RG. RG is 23 years old.\n"
     ]
    }
   ],
   "source": [
    "age = 23\n",
    "name = \"RG\"\n",
    "txt = \"His name is {1}. {1} is {0} years old.\"\n",
    "print(txt.format(age, name))"
   ]
  },
  {
   "cell_type": "code",
   "execution_count": null,
   "id": "67060119",
   "metadata": {},
   "outputs": [],
   "source": []
  }
 ],
 "metadata": {
  "kernelspec": {
   "display_name": "Python 3 (ipykernel)",
   "language": "python",
   "name": "python3"
  },
  "language_info": {
   "codemirror_mode": {
    "name": "ipython",
    "version": 3
   },
   "file_extension": ".py",
   "mimetype": "text/x-python",
   "name": "python",
   "nbconvert_exporter": "python",
   "pygments_lexer": "ipython3",
   "version": "3.9.12"
  }
 },
 "nbformat": 4,
 "nbformat_minor": 5
}
