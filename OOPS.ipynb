{
 "cells": [
  {
   "cell_type": "code",
   "execution_count": 19,
   "id": "91030ee1",
   "metadata": {},
   "outputs": [],
   "source": [
    "class Car:\n",
    "    def __init__(self,do,win,eng):\n",
    "        self.doors = do\n",
    "        self.windows = win\n",
    "        self.engine = eng\n",
    "    def drive(self):\n",
    "        return \"This is a {} car type\".format(self.engine)"
   ]
  },
  {
   "cell_type": "code",
   "execution_count": 21,
   "id": "fe1f286f",
   "metadata": {},
   "outputs": [],
   "source": [
    "car1= Car(4,4,\"diesel\")"
   ]
  },
  {
   "cell_type": "code",
   "execution_count": 22,
   "id": "6d130a02",
   "metadata": {},
   "outputs": [
    {
     "name": "stdout",
     "output_type": "stream",
     "text": [
      "4\n",
      "4\n",
      "diesel\n"
     ]
    }
   ],
   "source": [
    "print(car1.doors)\n",
    "print(car1.windows)\n",
    "print(car1.engine)"
   ]
  },
  {
   "cell_type": "code",
   "execution_count": 25,
   "id": "915d3a91",
   "metadata": {},
   "outputs": [
    {
     "data": {
      "text/plain": [
       "'This is a diesel car type'"
      ]
     },
     "execution_count": 25,
     "metadata": {},
     "output_type": "execute_result"
    }
   ],
   "source": [
    "car1.drive()"
   ]
  },
  {
   "cell_type": "code",
   "execution_count": 27,
   "id": "b3dfb72b",
   "metadata": {},
   "outputs": [
    {
     "name": "stdout",
     "output_type": "stream",
     "text": [
      "2\n",
      "2\n",
      "petrol\n"
     ]
    }
   ],
   "source": [
    "car2 = Car(2,2,\"petrol\")\n",
    "print(car2.doors)\n",
    "print(car2.windows)\n",
    "print(car2.engine)"
   ]
  },
  {
   "cell_type": "code",
   "execution_count": 28,
   "id": "53c27e1a",
   "metadata": {},
   "outputs": [
    {
     "data": {
      "text/plain": [
       "'This is a petrol car type'"
      ]
     },
     "execution_count": 28,
     "metadata": {},
     "output_type": "execute_result"
    }
   ],
   "source": [
    "car2.drive()"
   ]
  },
  {
   "cell_type": "code",
   "execution_count": 5,
   "id": "a8ccac8a",
   "metadata": {},
   "outputs": [
    {
     "data": {
      "text/plain": [
       "['__class__',\n",
       " '__delattr__',\n",
       " '__dict__',\n",
       " '__dir__',\n",
       " '__doc__',\n",
       " '__eq__',\n",
       " '__format__',\n",
       " '__ge__',\n",
       " '__getattribute__',\n",
       " '__gt__',\n",
       " '__hash__',\n",
       " '__init__',\n",
       " '__init_subclass__',\n",
       " '__le__',\n",
       " '__lt__',\n",
       " '__module__',\n",
       " '__ne__',\n",
       " '__new__',\n",
       " '__reduce__',\n",
       " '__reduce_ex__',\n",
       " '__repr__',\n",
       " '__setattr__',\n",
       " '__sizeof__',\n",
       " '__str__',\n",
       " '__subclasshook__',\n",
       " '__weakref__',\n",
       " 'doors',\n",
       " 'windows']"
      ]
     },
     "execution_count": 5,
     "metadata": {},
     "output_type": "execute_result"
    }
   ],
   "source": [
    "dir(car1)"
   ]
  },
  {
   "cell_type": "code",
   "execution_count": 6,
   "id": "69cc981b",
   "metadata": {},
   "outputs": [
    {
     "data": {
      "text/plain": [
       "['__class__',\n",
       " '__delattr__',\n",
       " '__dict__',\n",
       " '__dir__',\n",
       " '__doc__',\n",
       " '__eq__',\n",
       " '__format__',\n",
       " '__ge__',\n",
       " '__getattribute__',\n",
       " '__gt__',\n",
       " '__hash__',\n",
       " '__init__',\n",
       " '__init_subclass__',\n",
       " '__le__',\n",
       " '__lt__',\n",
       " '__module__',\n",
       " '__ne__',\n",
       " '__new__',\n",
       " '__reduce__',\n",
       " '__reduce_ex__',\n",
       " '__repr__',\n",
       " '__setattr__',\n",
       " '__sizeof__',\n",
       " '__str__',\n",
       " '__subclasshook__',\n",
       " '__weakref__',\n",
       " 'doors',\n",
       " 'engine',\n",
       " 'windows']"
      ]
     },
     "execution_count": 6,
     "metadata": {},
     "output_type": "execute_result"
    }
   ],
   "source": [
    "dir(car2)"
   ]
  },
  {
   "cell_type": "code",
   "execution_count": 33,
   "id": "2924aec6",
   "metadata": {},
   "outputs": [],
   "source": [
    "class bmw(Car):\n",
    "    def __init__(self,windows,doors,enginetype,enableai):\n",
    "        super().__init__(windows,doors,enginetype)\n",
    "        self.enableai=enableai\n",
    "    def selfdriving(self):\n",
    "        print(\"BMW supports Self driving\")       "
   ]
  },
  {
   "cell_type": "code",
   "execution_count": 34,
   "id": "f15734e8",
   "metadata": {},
   "outputs": [
    {
     "name": "stdout",
     "output_type": "stream",
     "text": [
      "BMW supports Self driving\n"
     ]
    }
   ],
   "source": [
    "bmwm2=bmw(5,5,\"diesel\",True)\n",
    "bmwm2.selfdriving()"
   ]
  },
  {
   "cell_type": "markdown",
   "id": "56a9e8c6",
   "metadata": {},
   "source": [
    "# Python Inheritance"
   ]
  },
  {
   "cell_type": "code",
   "execution_count": 35,
   "id": "0c2518b4",
   "metadata": {},
   "outputs": [
    {
     "name": "stdout",
     "output_type": "stream",
     "text": [
      "I can eat\n",
      "My name is  felix\n"
     ]
    }
   ],
   "source": [
    "class Animal:\n",
    "\n",
    "    name = \"\"\n",
    "    \n",
    "    def eat(self):\n",
    "        print(\"I can eat\")\n",
    "\n",
    "# inherit from Animal\n",
    "class Dog(Animal):\n",
    "\n",
    "    \n",
    "    def display(self):\n",
    "        print(\"My name is \", self.name)\n",
    "\n",
    "# create an object of the subclass\n",
    "labrador = Dog()\n",
    "\n",
    " \n",
    "labrador.name = \"felix\"\n",
    "labrador.eat()\n",
    "\n",
    "labrador.display()"
   ]
  },
  {
   "cell_type": "code",
   "execution_count": 36,
   "id": "c4553f7a",
   "metadata": {},
   "outputs": [
    {
     "name": "stdout",
     "output_type": "stream",
     "text": [
      "Enter side 1 : 6\n",
      "Enter side 2 : 15\n",
      "Enter side 3 : 10\n",
      "Side 1 is 6.0\n",
      "Side 2 is 15.0\n",
      "Side 3 is 10.0\n",
      "The area of the triangle is 20.12\n"
     ]
    }
   ],
   "source": [
    "class Polygon:\n",
    "    # Initializing the number of sides\n",
    "    def __init__(self, no_of_sides):\n",
    "        self.n = no_of_sides\n",
    "        self.sides = [0 for i in range(no_of_sides)]\n",
    "\n",
    "    def inputSides(self):\n",
    "        self.sides = [float(input(\"Enter side \"+str(i+1)+\" : \")) for i in range(self.n)]\n",
    "\n",
    "    # method to display the length of each side of the polygon\n",
    "    def dispSides(self):\n",
    "        for i in range(self.n):\n",
    "            print(\"Side\",i+1,\"is\",self.sides[i])\n",
    "\n",
    "class Triangle(Polygon):\n",
    "    # Initializing the number of sides of the triangle to 3 by \n",
    "    # calling the __init__ method of the Polygon class\n",
    "    def __init__(self):\n",
    "        Polygon.__init__(self,3)\n",
    "\n",
    "    def findArea(self):\n",
    "        a, b, c = self.sides\n",
    "\n",
    "        # calculate the semi-perimeter\n",
    "        s = (a + b + c) / 2\n",
    "\n",
    "        # Using Heron's formula to calculate the area of the triangle\n",
    "        area = (s*(s-a)*(s-b)*(s-c)) ** 0.5\n",
    "        print('The area of the triangle is %0.2f' %area)\n",
    "\n",
    "# Creating an instance of the Triangle class\n",
    "t = Triangle()\n",
    "\n",
    "# Prompting the user to enter the sides of the triangle\n",
    "t.inputSides()\n",
    "\n",
    "# Displaying the sides of the triangle\n",
    "t.dispSides()\n",
    "\n",
    "# Calculating and printing the area of the triangle\n",
    "t.findArea()"
   ]
  },
  {
   "cell_type": "code",
   "execution_count": null,
   "id": "c16bbf56",
   "metadata": {},
   "outputs": [],
   "source": []
  },
  {
   "cell_type": "code",
   "execution_count": null,
   "id": "537ca1ad",
   "metadata": {},
   "outputs": [],
   "source": []
  },
  {
   "cell_type": "code",
   "execution_count": null,
   "id": "9bfc6a34",
   "metadata": {},
   "outputs": [],
   "source": []
  },
  {
   "cell_type": "code",
   "execution_count": null,
   "id": "704a66d1",
   "metadata": {},
   "outputs": [],
   "source": []
  },
  {
   "cell_type": "code",
   "execution_count": null,
   "id": "e8246de8",
   "metadata": {},
   "outputs": [],
   "source": []
  },
  {
   "cell_type": "code",
   "execution_count": null,
   "id": "7e987bd1",
   "metadata": {},
   "outputs": [],
   "source": []
  },
  {
   "cell_type": "code",
   "execution_count": null,
   "id": "5aaa479a",
   "metadata": {},
   "outputs": [],
   "source": []
  },
  {
   "cell_type": "code",
   "execution_count": null,
   "id": "ad5a4692",
   "metadata": {},
   "outputs": [],
   "source": []
  },
  {
   "cell_type": "code",
   "execution_count": null,
   "id": "f4c1ce5a",
   "metadata": {},
   "outputs": [],
   "source": []
  },
  {
   "cell_type": "code",
   "execution_count": null,
   "id": "3e14147a",
   "metadata": {},
   "outputs": [],
   "source": []
  },
  {
   "cell_type": "code",
   "execution_count": null,
   "id": "6506e660",
   "metadata": {},
   "outputs": [],
   "source": []
  },
  {
   "cell_type": "code",
   "execution_count": null,
   "id": "ba283224",
   "metadata": {},
   "outputs": [],
   "source": []
  }
 ],
 "metadata": {
  "kernelspec": {
   "display_name": "Python 3 (ipykernel)",
   "language": "python",
   "name": "python3"
  },
  "language_info": {
   "codemirror_mode": {
    "name": "ipython",
    "version": 3
   },
   "file_extension": ".py",
   "mimetype": "text/x-python",
   "name": "python",
   "nbconvert_exporter": "python",
   "pygments_lexer": "ipython3",
   "version": "3.9.12"
  }
 },
 "nbformat": 4,
 "nbformat_minor": 5
}
