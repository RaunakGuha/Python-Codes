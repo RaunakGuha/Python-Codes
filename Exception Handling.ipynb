{
 "cells": [
  {
   "cell_type": "markdown",
   "id": "84106e08",
   "metadata": {},
   "source": [
    "# Exception Handling\n",
    "When an error occurs, or exception as we call it, Python will normally stop and generate an error message.\n",
    "These exceptions can be handled using the try statement:"
   ]
  },
  {
   "cell_type": "markdown",
   "id": "93e369b2",
   "metadata": {},
   "source": [
    "The try block lets you test a block of code for errors.\n",
    "\n",
    "The except block lets you handle the error.\n",
    "\n",
    "The else block lets you execute code when there is no error.\n",
    "\n",
    "The finally block lets you execute code, regardless of the result of the try- and except blocks."
   ]
  },
  {
   "cell_type": "code",
   "execution_count": 1,
   "id": "af3e25bc",
   "metadata": {},
   "outputs": [
    {
     "name": "stdout",
     "output_type": "stream",
     "text": [
      "An exception occurred\n"
     ]
    }
   ],
   "source": [
    "try:\n",
    "  print(x)\n",
    "except:\n",
    "  print(\"An exception occurred\")"
   ]
  },
  {
   "cell_type": "markdown",
   "id": "a21127b8",
   "metadata": {},
   "source": [
    "The try block generated an exception, because x is not defined. Since the try block raises an error,\n",
    "the except block will be executed.Without the try block, the program will crash and raise an error:"
   ]
  },
  {
   "cell_type": "markdown",
   "id": "135b693b",
   "metadata": {},
   "source": [
    "## Many Exceptions"
   ]
  },
  {
   "cell_type": "code",
   "execution_count": 2,
   "id": "3715e107",
   "metadata": {},
   "outputs": [
    {
     "name": "stdout",
     "output_type": "stream",
     "text": [
      "Variable x is not defined\n"
     ]
    }
   ],
   "source": [
    "try:\n",
    "  print(x)\n",
    "except NameError:\n",
    "  print(\"Variable x is not defined\")\n",
    "except:\n",
    "  print(\"Something else went wrong\")"
   ]
  },
  {
   "cell_type": "code",
   "execution_count": 3,
   "id": "3e8cec1c",
   "metadata": {},
   "outputs": [
    {
     "name": "stdout",
     "output_type": "stream",
     "text": [
      "Hello\n",
      "Nothing went wrong\n"
     ]
    }
   ],
   "source": [
    "try:\n",
    "  print(\"Hello\")\n",
    "except:\n",
    "  print(\"Something went wrong\")\n",
    "else:\n",
    "  print(\"Nothing went wrong\")"
   ]
  },
  {
   "cell_type": "code",
   "execution_count": 4,
   "id": "578de26f",
   "metadata": {},
   "outputs": [
    {
     "name": "stdout",
     "output_type": "stream",
     "text": [
      "Something went wrong\n",
      "The 'try except' is finished\n"
     ]
    }
   ],
   "source": [
    "try:\n",
    "  print(x)\n",
    "except:\n",
    "  print(\"Something went wrong\")\n",
    "finally:\n",
    "  print(\"The 'try except' is finished\")"
   ]
  },
  {
   "cell_type": "code",
   "execution_count": 10,
   "id": "a4f2397c",
   "metadata": {},
   "outputs": [
    {
     "name": "stdout",
     "output_type": "stream",
     "text": [
      "Enter the 1st 2\n",
      "Enter the 2nd 0\n",
      "Please provide number greater than 0\n",
      "The execution is done\n"
     ]
    }
   ],
   "source": [
    "try:\n",
    "    ##code block where exception can occur\n",
    "    a=int(input(\"Enter the 1st \"))\n",
    "    b=int(input(\"Enter the 2nd \"))\n",
    "    c=a/b\n",
    "    \n",
    "except NameError:\n",
    "    print(\"The user have not defined variable\")\n",
    "except ZeroDivisionError:\n",
    "    print(\"Please provide number greater than 0\")\n",
    "except TypeError:\n",
    "    print(\"Try to make the datatype similar\")\n",
    "except Exception as ex:\n",
    "    print(ex)\n",
    "else:\n",
    "    print(c)\n",
    "finally:\n",
    "    print(\"The execution is done\")"
   ]
  },
  {
   "cell_type": "code",
   "execution_count": 11,
   "id": "8bbd40d2",
   "metadata": {},
   "outputs": [
    {
     "name": "stdout",
     "output_type": "stream",
     "text": [
      "Enter the year of Birth 2000\n",
      "The age is valid. You can apply driving license\n"
     ]
    }
   ],
   "source": [
    "year=int(input(\"Enter the year of Birth \"))\n",
    "age=2023-year\n",
    "try:\n",
    "    if age>=18:\n",
    "        print(\"The age is valid. You can apply driving license\")\n",
    "    else:\n",
    "        raise dobException\n",
    "except dobException:\n",
    "    print(\"The age is not valid. You cannot apply driving license\")"
   ]
  },
  {
   "cell_type": "code",
   "execution_count": 12,
   "id": "2bb0f5cd",
   "metadata": {},
   "outputs": [
    {
     "ename": "Exception",
     "evalue": "Sorry, no numbers below zero",
     "output_type": "error",
     "traceback": [
      "\u001b[1;31m---------------------------------------------------------------------------\u001b[0m",
      "\u001b[1;31mException\u001b[0m                                 Traceback (most recent call last)",
      "Input \u001b[1;32mIn [12]\u001b[0m, in \u001b[0;36m<cell line: 3>\u001b[1;34m()\u001b[0m\n\u001b[0;32m      1\u001b[0m x \u001b[38;5;241m=\u001b[39m \u001b[38;5;241m-\u001b[39m\u001b[38;5;241m1\u001b[39m\n\u001b[0;32m      3\u001b[0m \u001b[38;5;28;01mif\u001b[39;00m x \u001b[38;5;241m<\u001b[39m \u001b[38;5;241m0\u001b[39m:\n\u001b[1;32m----> 4\u001b[0m   \u001b[38;5;28;01mraise\u001b[39;00m \u001b[38;5;167;01mException\u001b[39;00m(\u001b[38;5;124m\"\u001b[39m\u001b[38;5;124mSorry, no numbers below zero\u001b[39m\u001b[38;5;124m\"\u001b[39m)\n",
      "\u001b[1;31mException\u001b[0m: Sorry, no numbers below zero"
     ]
    }
   ],
   "source": [
    "x = -1\n",
    "\n",
    "if x < 0:\n",
    "  raise Exception(\"Sorry, no numbers below zero\")"
   ]
  },
  {
   "cell_type": "code",
   "execution_count": 13,
   "id": "3e952909",
   "metadata": {},
   "outputs": [
    {
     "ename": "TypeError",
     "evalue": "Only integers are allowed",
     "output_type": "error",
     "traceback": [
      "\u001b[1;31m---------------------------------------------------------------------------\u001b[0m",
      "\u001b[1;31mTypeError\u001b[0m                                 Traceback (most recent call last)",
      "Input \u001b[1;32mIn [13]\u001b[0m, in \u001b[0;36m<cell line: 3>\u001b[1;34m()\u001b[0m\n\u001b[0;32m      1\u001b[0m x \u001b[38;5;241m=\u001b[39m \u001b[38;5;124m\"\u001b[39m\u001b[38;5;124mhello\u001b[39m\u001b[38;5;124m\"\u001b[39m\n\u001b[0;32m      3\u001b[0m \u001b[38;5;28;01mif\u001b[39;00m \u001b[38;5;129;01mnot\u001b[39;00m \u001b[38;5;28mtype\u001b[39m(x) \u001b[38;5;129;01mis\u001b[39;00m \u001b[38;5;28mint\u001b[39m:\n\u001b[1;32m----> 4\u001b[0m   \u001b[38;5;28;01mraise\u001b[39;00m \u001b[38;5;167;01mTypeError\u001b[39;00m(\u001b[38;5;124m\"\u001b[39m\u001b[38;5;124mOnly integers are allowed\u001b[39m\u001b[38;5;124m\"\u001b[39m)\n",
      "\u001b[1;31mTypeError\u001b[0m: Only integers are allowed"
     ]
    }
   ],
   "source": [
    "x = \"hello\"\n",
    "\n",
    "if not type(x) is int:\n",
    "  raise TypeError(\"Only integers are allowed\")\n"
   ]
  },
  {
   "cell_type": "code",
   "execution_count": null,
   "id": "feb1e090",
   "metadata": {},
   "outputs": [],
   "source": []
  }
 ],
 "metadata": {
  "kernelspec": {
   "display_name": "Python 3 (ipykernel)",
   "language": "python",
   "name": "python3"
  },
  "language_info": {
   "codemirror_mode": {
    "name": "ipython",
    "version": 3
   },
   "file_extension": ".py",
   "mimetype": "text/x-python",
   "name": "python",
   "nbconvert_exporter": "python",
   "pygments_lexer": "ipython3",
   "version": "3.9.12"
  }
 },
 "nbformat": 4,
 "nbformat_minor": 5
}
