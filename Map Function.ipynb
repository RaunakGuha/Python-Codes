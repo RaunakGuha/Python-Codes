{
 "cells": [
  {
   "cell_type": "markdown",
   "id": "4db00bc2",
   "metadata": {},
   "source": [
    "# MAP\n",
    "The map() function applies a given function to each element of an iterable (list, tuple etc.) and returns an iterator containing the results."
   ]
  },
  {
   "cell_type": "code",
   "execution_count": 1,
   "id": "5bcfdc38",
   "metadata": {},
   "outputs": [
    {
     "name": "stdout",
     "output_type": "stream",
     "text": [
      "[1, 4, 9, 16, 25, 36, 49, 64, 81, 100]\n"
     ]
    }
   ],
   "source": [
    "nos = [1,2,3,4,5,6,7,8,9,10]\n",
    "\n",
    "def square(n):\n",
    "    return n*n\n",
    "\n",
    "squared_nos = map(square, nos)\n",
    "\n",
    "squared_numbers = list(squared_nos)\n",
    "print(squared_numbers)"
   ]
  },
  {
   "cell_type": "code",
   "execution_count": 2,
   "id": "057766c1",
   "metadata": {},
   "outputs": [
    {
     "data": {
      "text/plain": [
       "['The num 1 is odd',\n",
       " 'The num 2 is even',\n",
       " 'The num 3 is odd',\n",
       " 'The num 4 is even',\n",
       " 'The num 5 is odd',\n",
       " 'The num 8 is even',\n",
       " 'The num 9 is odd',\n",
       " 'The num 10 is even',\n",
       " 'The num 21 is odd',\n",
       " 'The num 30 is even',\n",
       " 'The num 111 is odd',\n",
       " 'The num 53 is odd',\n",
       " 'The num 76 is even',\n",
       " 'The num 88 is even',\n",
       " 'The num 100 is even']"
      ]
     },
     "execution_count": 2,
     "metadata": {},
     "output_type": "execute_result"
    }
   ],
   "source": [
    "def odd_or_eve(n):\n",
    "    if n%2 == 0:\n",
    "        return \"The num {} is even\".format(n)\n",
    "    else:\n",
    "        return \"The num {} is odd\".format(n)\n",
    "\n",
    "l= [1,2,3,4,5,8,9,10,21,30,111,53,76,88,100]\n",
    "list(map(odd_or_eve,l))"
   ]
  },
  {
   "cell_type": "code",
   "execution_count": 6,
   "id": "9685d78f",
   "metadata": {},
   "outputs": [
    {
     "name": "stdout",
     "output_type": "stream",
     "text": [
      "<map object at 0x000002D88956B310>\n",
      "[1, 4, 9, 16, 25, 64, 81, 100, 441, 900, 12321, 2809, 5776, 7744, 10000]\n"
     ]
    }
   ],
   "source": [
    "def calculateSquare(n):\n",
    "    return n*n\n",
    "\n",
    "result = map(calculateSquare,l)\n",
    "print(result)\n",
    "\n",
    "numbersSquare = list(result)\n",
    "print(numbersSquare)"
   ]
  },
  {
   "cell_type": "code",
   "execution_count": 7,
   "id": "70f813dd",
   "metadata": {},
   "outputs": [],
   "source": [
    "#Map () using lambda"
   ]
  },
  {
   "cell_type": "code",
   "execution_count": 8,
   "id": "417e7e58",
   "metadata": {},
   "outputs": [
    {
     "name": "stdout",
     "output_type": "stream",
     "text": [
      "<map object at 0x000002D88956B6D0>\n",
      "[1, 4, 9, 16, 25, 64, 81, 100, 441, 900, 12321, 2809, 5776, 7744, 10000]\n"
     ]
    }
   ],
   "source": [
    "result = map(lambda x: x*x, l)\n",
    "print(result)\n",
    "\n",
    "\n",
    "numbersSquare = list(result)\n",
    "print(numbersSquare)"
   ]
  },
  {
   "cell_type": "code",
   "execution_count": 9,
   "id": "0259ae70",
   "metadata": {},
   "outputs": [
    {
     "name": "stdout",
     "output_type": "stream",
     "text": [
      "<map object at 0x000002D88967B0D0>\n",
      "[False, True, False, True, False, True, False, True, False, True, False, False, True, True, True]\n"
     ]
    }
   ],
   "source": [
    "result = map(lambda x:x%2==0, l)\n",
    "print(result)\n",
    "\n",
    "\n",
    "numbersSquare = list(result)\n",
    "print(numbersSquare)"
   ]
  },
  {
   "cell_type": "code",
   "execution_count": null,
   "id": "ae923ca5",
   "metadata": {},
   "outputs": [],
   "source": []
  }
 ],
 "metadata": {
  "kernelspec": {
   "display_name": "Python 3 (ipykernel)",
   "language": "python",
   "name": "python3"
  },
  "language_info": {
   "codemirror_mode": {
    "name": "ipython",
    "version": 3
   },
   "file_extension": ".py",
   "mimetype": "text/x-python",
   "name": "python",
   "nbconvert_exporter": "python",
   "pygments_lexer": "ipython3",
   "version": "3.9.12"
  }
 },
 "nbformat": 4,
 "nbformat_minor": 5
}
